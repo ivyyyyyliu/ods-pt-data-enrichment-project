{
 "cells": [
  {
   "cell_type": "code",
   "execution_count": 2,
   "id": "b84cd1a1",
   "metadata": {},
   "outputs": [],
   "source": [
    "import pandas as pd\n",
    "import numpy as np\n",
    "import matplotlib.pyplot as plt\n",
    "import seaborn as sns"
   ]
  },
  {
   "cell_type": "code",
   "execution_count": 5,
   "id": "6c793211",
   "metadata": {},
   "outputs": [],
   "source": [
    "data2000 = pd.read_csv('Data/final_tmdb_data_2000.csv.gz')"
   ]
  },
  {
   "cell_type": "code",
   "execution_count": 6,
   "id": "41fc9eaa",
   "metadata": {},
   "outputs": [],
   "source": [
    "data2001 = pd.read_csv('Data/final_tmdb_data_2001.csv.gz')"
   ]
  },
  {
   "cell_type": "code",
   "execution_count": 7,
   "id": "eb0eb1cc",
   "metadata": {},
   "outputs": [
    {
     "data": {
      "text/html": [
       "<div>\n",
       "<style scoped>\n",
       "    .dataframe tbody tr th:only-of-type {\n",
       "        vertical-align: middle;\n",
       "    }\n",
       "\n",
       "    .dataframe tbody tr th {\n",
       "        vertical-align: top;\n",
       "    }\n",
       "\n",
       "    .dataframe thead th {\n",
       "        text-align: right;\n",
       "    }\n",
       "</style>\n",
       "<table border=\"1\" class=\"dataframe\">\n",
       "  <thead>\n",
       "    <tr style=\"text-align: right;\">\n",
       "      <th></th>\n",
       "      <th>imdb_id</th>\n",
       "      <th>adult</th>\n",
       "      <th>backdrop_path</th>\n",
       "      <th>belongs_to_collection</th>\n",
       "      <th>budget</th>\n",
       "      <th>genres</th>\n",
       "      <th>homepage</th>\n",
       "      <th>id</th>\n",
       "      <th>original_language</th>\n",
       "      <th>original_title</th>\n",
       "      <th>...</th>\n",
       "      <th>revenue</th>\n",
       "      <th>runtime</th>\n",
       "      <th>spoken_languages</th>\n",
       "      <th>status</th>\n",
       "      <th>tagline</th>\n",
       "      <th>title</th>\n",
       "      <th>video</th>\n",
       "      <th>vote_average</th>\n",
       "      <th>vote_count</th>\n",
       "      <th>certification</th>\n",
       "    </tr>\n",
       "  </thead>\n",
       "  <tbody>\n",
       "    <tr>\n",
       "      <th>0</th>\n",
       "      <td>0</td>\n",
       "      <td>NaN</td>\n",
       "      <td>NaN</td>\n",
       "      <td>NaN</td>\n",
       "      <td>NaN</td>\n",
       "      <td>NaN</td>\n",
       "      <td>NaN</td>\n",
       "      <td>NaN</td>\n",
       "      <td>NaN</td>\n",
       "      <td>NaN</td>\n",
       "      <td>...</td>\n",
       "      <td>NaN</td>\n",
       "      <td>NaN</td>\n",
       "      <td>NaN</td>\n",
       "      <td>NaN</td>\n",
       "      <td>NaN</td>\n",
       "      <td>NaN</td>\n",
       "      <td>NaN</td>\n",
       "      <td>NaN</td>\n",
       "      <td>NaN</td>\n",
       "      <td>NaN</td>\n",
       "    </tr>\n",
       "    <tr>\n",
       "      <th>1</th>\n",
       "      <td>tt0113026</td>\n",
       "      <td>0.0</td>\n",
       "      <td>/vMFs7nw6P0bIV1jDsQpxAieAVnH.jpg</td>\n",
       "      <td>NaN</td>\n",
       "      <td>10000000.0</td>\n",
       "      <td>[{'id': 35, 'name': 'Comedy'}, {'id': 10402, '...</td>\n",
       "      <td>NaN</td>\n",
       "      <td>62127.0</td>\n",
       "      <td>en</td>\n",
       "      <td>The Fantasticks</td>\n",
       "      <td>...</td>\n",
       "      <td>0.0</td>\n",
       "      <td>86.0</td>\n",
       "      <td>[{'english_name': 'English', 'iso_639_1': 'en'...</td>\n",
       "      <td>Released</td>\n",
       "      <td>Try to remember the first time magic happened</td>\n",
       "      <td>The Fantasticks</td>\n",
       "      <td>0.0</td>\n",
       "      <td>5.5</td>\n",
       "      <td>22.0</td>\n",
       "      <td>NaN</td>\n",
       "    </tr>\n",
       "    <tr>\n",
       "      <th>2</th>\n",
       "      <td>tt0113092</td>\n",
       "      <td>0.0</td>\n",
       "      <td>NaN</td>\n",
       "      <td>NaN</td>\n",
       "      <td>0.0</td>\n",
       "      <td>[{'id': 878, 'name': 'Science Fiction'}]</td>\n",
       "      <td>NaN</td>\n",
       "      <td>110977.0</td>\n",
       "      <td>en</td>\n",
       "      <td>For the Cause</td>\n",
       "      <td>...</td>\n",
       "      <td>0.0</td>\n",
       "      <td>100.0</td>\n",
       "      <td>[{'english_name': 'English', 'iso_639_1': 'en'...</td>\n",
       "      <td>Released</td>\n",
       "      <td>The ultimate showdown on a forbidden planet.</td>\n",
       "      <td>For the Cause</td>\n",
       "      <td>0.0</td>\n",
       "      <td>5.1</td>\n",
       "      <td>8.0</td>\n",
       "      <td>NaN</td>\n",
       "    </tr>\n",
       "    <tr>\n",
       "      <th>3</th>\n",
       "      <td>tt0116391</td>\n",
       "      <td>0.0</td>\n",
       "      <td>NaN</td>\n",
       "      <td>NaN</td>\n",
       "      <td>0.0</td>\n",
       "      <td>[{'id': 18, 'name': 'Drama'}, {'id': 28, 'name...</td>\n",
       "      <td>NaN</td>\n",
       "      <td>442869.0</td>\n",
       "      <td>hi</td>\n",
       "      <td>Gang</td>\n",
       "      <td>...</td>\n",
       "      <td>0.0</td>\n",
       "      <td>152.0</td>\n",
       "      <td>[{'english_name': 'Hindi', 'iso_639_1': 'hi', ...</td>\n",
       "      <td>Released</td>\n",
       "      <td>NaN</td>\n",
       "      <td>Gang</td>\n",
       "      <td>0.0</td>\n",
       "      <td>4.0</td>\n",
       "      <td>1.0</td>\n",
       "      <td>NaN</td>\n",
       "    </tr>\n",
       "    <tr>\n",
       "      <th>4</th>\n",
       "      <td>tt0116748</td>\n",
       "      <td>0.0</td>\n",
       "      <td>/wr0hTHwkYIRC82MwNbhOvqrw27N.jpg</td>\n",
       "      <td>NaN</td>\n",
       "      <td>0.0</td>\n",
       "      <td>[{'id': 18, 'name': 'Drama'}, {'id': 10749, 'n...</td>\n",
       "      <td>NaN</td>\n",
       "      <td>579396.0</td>\n",
       "      <td>hi</td>\n",
       "      <td>Karobaar</td>\n",
       "      <td>...</td>\n",
       "      <td>0.0</td>\n",
       "      <td>180.0</td>\n",
       "      <td>[{'english_name': 'Hindi', 'iso_639_1': 'hi', ...</td>\n",
       "      <td>Released</td>\n",
       "      <td>The Business of Love</td>\n",
       "      <td>Karobaar</td>\n",
       "      <td>0.0</td>\n",
       "      <td>5.5</td>\n",
       "      <td>2.0</td>\n",
       "      <td>NaN</td>\n",
       "    </tr>\n",
       "  </tbody>\n",
       "</table>\n",
       "<p>5 rows × 26 columns</p>\n",
       "</div>"
      ],
      "text/plain": [
       "     imdb_id  adult                     backdrop_path belongs_to_collection  \\\n",
       "0          0    NaN                               NaN                   NaN   \n",
       "1  tt0113026    0.0  /vMFs7nw6P0bIV1jDsQpxAieAVnH.jpg                   NaN   \n",
       "2  tt0113092    0.0                               NaN                   NaN   \n",
       "3  tt0116391    0.0                               NaN                   NaN   \n",
       "4  tt0116748    0.0  /wr0hTHwkYIRC82MwNbhOvqrw27N.jpg                   NaN   \n",
       "\n",
       "       budget                                             genres homepage  \\\n",
       "0         NaN                                                NaN      NaN   \n",
       "1  10000000.0  [{'id': 35, 'name': 'Comedy'}, {'id': 10402, '...      NaN   \n",
       "2         0.0           [{'id': 878, 'name': 'Science Fiction'}]      NaN   \n",
       "3         0.0  [{'id': 18, 'name': 'Drama'}, {'id': 28, 'name...      NaN   \n",
       "4         0.0  [{'id': 18, 'name': 'Drama'}, {'id': 10749, 'n...      NaN   \n",
       "\n",
       "         id original_language   original_title  ... revenue  runtime  \\\n",
       "0       NaN               NaN              NaN  ...     NaN      NaN   \n",
       "1   62127.0                en  The Fantasticks  ...     0.0     86.0   \n",
       "2  110977.0                en    For the Cause  ...     0.0    100.0   \n",
       "3  442869.0                hi             Gang  ...     0.0    152.0   \n",
       "4  579396.0                hi         Karobaar  ...     0.0    180.0   \n",
       "\n",
       "                                    spoken_languages    status  \\\n",
       "0                                                NaN       NaN   \n",
       "1  [{'english_name': 'English', 'iso_639_1': 'en'...  Released   \n",
       "2  [{'english_name': 'English', 'iso_639_1': 'en'...  Released   \n",
       "3  [{'english_name': 'Hindi', 'iso_639_1': 'hi', ...  Released   \n",
       "4  [{'english_name': 'Hindi', 'iso_639_1': 'hi', ...  Released   \n",
       "\n",
       "                                         tagline            title  video  \\\n",
       "0                                            NaN              NaN    NaN   \n",
       "1  Try to remember the first time magic happened  The Fantasticks    0.0   \n",
       "2   The ultimate showdown on a forbidden planet.    For the Cause    0.0   \n",
       "3                                            NaN             Gang    0.0   \n",
       "4                           The Business of Love         Karobaar    0.0   \n",
       "\n",
       "   vote_average vote_count certification  \n",
       "0           NaN        NaN           NaN  \n",
       "1           5.5       22.0           NaN  \n",
       "2           5.1        8.0           NaN  \n",
       "3           4.0        1.0           NaN  \n",
       "4           5.5        2.0           NaN  \n",
       "\n",
       "[5 rows x 26 columns]"
      ]
     },
     "execution_count": 7,
     "metadata": {},
     "output_type": "execute_result"
    }
   ],
   "source": [
    "df = pd.concat([data2000, data2001], axis=0)\n",
    "df.head()"
   ]
  },
  {
   "cell_type": "code",
   "execution_count": 8,
   "id": "e953d7a0",
   "metadata": {},
   "outputs": [
    {
     "name": "stdout",
     "output_type": "stream",
     "text": [
      "<class 'pandas.core.frame.DataFrame'>\n",
      "Int64Index: 4477 entries, 0 to 2269\n",
      "Data columns (total 26 columns):\n",
      " #   Column                 Non-Null Count  Dtype  \n",
      "---  ------                 --------------  -----  \n",
      " 0   imdb_id                4477 non-null   object \n",
      " 1   adult                  4475 non-null   float64\n",
      " 2   backdrop_path          1993 non-null   object \n",
      " 3   belongs_to_collection  252 non-null    object \n",
      " 4   budget                 4475 non-null   float64\n",
      " 5   genres                 4475 non-null   object \n",
      " 6   homepage               224 non-null    object \n",
      " 7   id                     4475 non-null   float64\n",
      " 8   original_language      4475 non-null   object \n",
      " 9   original_title         4475 non-null   object \n",
      " 10  overview               4126 non-null   object \n",
      " 11  popularity             4475 non-null   float64\n",
      " 12  poster_path            3830 non-null   object \n",
      " 13  production_companies   4475 non-null   object \n",
      " 14  production_countries   4475 non-null   object \n",
      " 15  release_date           4437 non-null   object \n",
      " 16  revenue                4475 non-null   float64\n",
      " 17  runtime                4475 non-null   float64\n",
      " 18  spoken_languages       4475 non-null   object \n",
      " 19  status                 4475 non-null   object \n",
      " 20  tagline                1266 non-null   object \n",
      " 21  title                  4475 non-null   object \n",
      " 22  video                  4475 non-null   float64\n",
      " 23  vote_average           4475 non-null   float64\n",
      " 24  vote_count             4475 non-null   float64\n",
      " 25  certification          824 non-null    object \n",
      "dtypes: float64(9), object(17)\n",
      "memory usage: 944.4+ KB\n"
     ]
    }
   ],
   "source": [
    "df.info()"
   ]
  },
  {
   "cell_type": "markdown",
   "id": "e03dec4c",
   "metadata": {},
   "source": [
    "1. How many movies had at least some valid financial information (values > 0 for budget OR revenue)?"
   ]
  },
  {
   "cell_type": "code",
   "execution_count": 9,
   "id": "1deb0c43",
   "metadata": {},
   "outputs": [
    {
     "name": "stdout",
     "output_type": "stream",
     "text": [
      ">0 for budget:\n"
     ]
    },
    {
     "data": {
      "text/plain": [
       "False    3869\n",
       "True      608\n",
       "Name: budget, dtype: int64"
      ]
     },
     "metadata": {},
     "output_type": "display_data"
    },
    {
     "name": "stdout",
     "output_type": "stream",
     "text": [
      ">0 for revenue:\n"
     ]
    },
    {
     "data": {
      "text/plain": [
       "False    3982\n",
       "True      495\n",
       "Name: revenue, dtype: int64"
      ]
     },
     "metadata": {},
     "output_type": "display_data"
    }
   ],
   "source": [
    "filter_budget = df['budget'] > 0\n",
    "filter_revenue = df['revenue']>0\n",
    "\n",
    "\n",
    "print('>0 for budget:')\n",
    "display(filter_budget.value_counts())\n",
    "\n",
    "print('>0 for revenue:')\n",
    "display(filter_revenue.value_counts())"
   ]
  },
  {
   "cell_type": "code",
   "execution_count": 10,
   "id": "37934ad1",
   "metadata": {},
   "outputs": [
    {
     "name": "stdout",
     "output_type": "stream",
     "text": [
      " budget and revenue :\n"
     ]
    },
    {
     "data": {
      "text/plain": [
       "False    4103\n",
       "True      374\n",
       "dtype: int64"
      ]
     },
     "metadata": {},
     "output_type": "display_data"
    }
   ],
   "source": [
    "filter_both = filter_budget & filter_revenue\n",
    "print(' budget and revenue :')\n",
    "display(filter_both.value_counts())"
   ]
  },
  {
   "cell_type": "code",
   "execution_count": 11,
   "id": "55c30fbc",
   "metadata": {},
   "outputs": [
    {
     "data": {
      "image/png": "[encoded data removed]",
      "text/plain": [
       "<Figure size 640x480 with 1 Axes>"
      ]
     },
     "metadata": {},
     "output_type": "display_data"
    }
   ],
   "source": [
    "ax = sns.countplot(x=filter_both);"
   ]
  },
  {
   "cell_type": "markdown",
   "id": "3e5a59e2",
   "metadata": {},
   "source": [
    "2. How many movies are there in each of the certification categories (G/PG/PG-13/R)?\n"
   ]
  },
  {
   "cell_type": "code",
   "execution_count": 12,
   "id": "cf34cd34",
   "metadata": {},
   "outputs": [
    {
     "data": {
      "text/plain": [
       "R          467\n",
       "PG-13      183\n",
       "NR          73\n",
       "PG          66\n",
       "G           26\n",
       "NC-17        7\n",
       "Unrated      1\n",
       "-            1\n",
       "Name: certification, dtype: int64"
      ]
     },
     "execution_count": 12,
     "metadata": {},
     "output_type": "execute_result"
    }
   ],
   "source": [
    "df['certification'].value_counts()"
   ]
  },
  {
   "cell_type": "markdown",
   "id": "df49dfa0",
   "metadata": {},
   "source": [
    "3. What is the average revenue per certification category?"
   ]
  },
  {
   "cell_type": "code",
   "execution_count": 13,
   "id": "860b3b78",
   "metadata": {},
   "outputs": [
    {
     "data": {
      "text/html": [
       "<div>\n",
       "<style scoped>\n",
       "    .dataframe tbody tr th:only-of-type {\n",
       "        vertical-align: middle;\n",
       "    }\n",
       "\n",
       "    .dataframe tbody tr th {\n",
       "        vertical-align: top;\n",
       "    }\n",
       "\n",
       "    .dataframe thead th {\n",
       "        text-align: right;\n",
       "    }\n",
       "</style>\n",
       "<table border=\"1\" class=\"dataframe\">\n",
       "  <thead>\n",
       "    <tr style=\"text-align: right;\">\n",
       "      <th></th>\n",
       "      <th>adult</th>\n",
       "      <th>budget</th>\n",
       "      <th>id</th>\n",
       "      <th>popularity</th>\n",
       "      <th>revenue</th>\n",
       "      <th>runtime</th>\n",
       "      <th>video</th>\n",
       "      <th>vote_average</th>\n",
       "      <th>vote_count</th>\n",
       "    </tr>\n",
       "    <tr>\n",
       "      <th>certification</th>\n",
       "      <th></th>\n",
       "      <th></th>\n",
       "      <th></th>\n",
       "      <th></th>\n",
       "      <th></th>\n",
       "      <th></th>\n",
       "      <th></th>\n",
       "      <th></th>\n",
       "      <th></th>\n",
       "    </tr>\n",
       "  </thead>\n",
       "  <tbody>\n",
       "    <tr>\n",
       "      <th>-</th>\n",
       "      <td>0.000000</td>\n",
       "      <td>0.000000e+00</td>\n",
       "      <td>172550.000000</td>\n",
       "      <td>0.600000</td>\n",
       "      <td>0.000000e+00</td>\n",
       "      <td>90.000000</td>\n",
       "      <td>0.000000</td>\n",
       "      <td>5.400000</td>\n",
       "      <td>8.000000</td>\n",
       "    </tr>\n",
       "    <tr>\n",
       "      <th>G</th>\n",
       "      <td>0.000000</td>\n",
       "      <td>2.205206e+07</td>\n",
       "      <td>53445.038462</td>\n",
       "      <td>17.003423</td>\n",
       "      <td>6.663261e+07</td>\n",
       "      <td>84.884615</td>\n",
       "      <td>0.038462</td>\n",
       "      <td>6.149731</td>\n",
       "      <td>1368.000000</td>\n",
       "    </tr>\n",
       "    <tr>\n",
       "      <th>NC-17</th>\n",
       "      <td>0.571429</td>\n",
       "      <td>0.000000e+00</td>\n",
       "      <td>209781.285714</td>\n",
       "      <td>1.291571</td>\n",
       "      <td>1.668286e+03</td>\n",
       "      <td>45.428571</td>\n",
       "      <td>0.000000</td>\n",
       "      <td>5.414286</td>\n",
       "      <td>4.714286</td>\n",
       "    </tr>\n",
       "    <tr>\n",
       "      <th>NR</th>\n",
       "      <td>0.000000</td>\n",
       "      <td>1.467673e+06</td>\n",
       "      <td>250242.301370</td>\n",
       "      <td>3.755603</td>\n",
       "      <td>2.069718e+06</td>\n",
       "      <td>91.000000</td>\n",
       "      <td>0.000000</td>\n",
       "      <td>4.298562</td>\n",
       "      <td>123.054795</td>\n",
       "    </tr>\n",
       "    <tr>\n",
       "      <th>PG</th>\n",
       "      <td>0.000000</td>\n",
       "      <td>2.384470e+07</td>\n",
       "      <td>39375.106061</td>\n",
       "      <td>17.945333</td>\n",
       "      <td>5.973842e+07</td>\n",
       "      <td>102.424242</td>\n",
       "      <td>0.000000</td>\n",
       "      <td>6.053455</td>\n",
       "      <td>1385.712121</td>\n",
       "    </tr>\n",
       "    <tr>\n",
       "      <th>PG-13</th>\n",
       "      <td>0.000000</td>\n",
       "      <td>3.072491e+07</td>\n",
       "      <td>45844.060109</td>\n",
       "      <td>12.186240</td>\n",
       "      <td>7.092495e+07</td>\n",
       "      <td>104.382514</td>\n",
       "      <td>0.000000</td>\n",
       "      <td>5.807240</td>\n",
       "      <td>1294.781421</td>\n",
       "    </tr>\n",
       "    <tr>\n",
       "      <th>R</th>\n",
       "      <td>0.000000</td>\n",
       "      <td>9.690588e+06</td>\n",
       "      <td>65023.261242</td>\n",
       "      <td>7.631668</td>\n",
       "      <td>1.625459e+07</td>\n",
       "      <td>100.486081</td>\n",
       "      <td>0.000000</td>\n",
       "      <td>5.341773</td>\n",
       "      <td>501.905782</td>\n",
       "    </tr>\n",
       "    <tr>\n",
       "      <th>Unrated</th>\n",
       "      <td>0.000000</td>\n",
       "      <td>0.000000e+00</td>\n",
       "      <td>169801.000000</td>\n",
       "      <td>2.817000</td>\n",
       "      <td>0.000000e+00</td>\n",
       "      <td>88.000000</td>\n",
       "      <td>0.000000</td>\n",
       "      <td>5.800000</td>\n",
       "      <td>4.000000</td>\n",
       "    </tr>\n",
       "  </tbody>\n",
       "</table>\n",
       "</div>"
      ],
      "text/plain": [
       "                  adult        budget             id  popularity  \\\n",
       "certification                                                      \n",
       "-              0.000000  0.000000e+00  172550.000000    0.600000   \n",
       "G              0.000000  2.205206e+07   53445.038462   17.003423   \n",
       "NC-17          0.571429  0.000000e+00  209781.285714    1.291571   \n",
       "NR             0.000000  1.467673e+06  250242.301370    3.755603   \n",
       "PG             0.000000  2.384470e+07   39375.106061   17.945333   \n",
       "PG-13          0.000000  3.072491e+07   45844.060109   12.186240   \n",
       "R              0.000000  9.690588e+06   65023.261242    7.631668   \n",
       "Unrated        0.000000  0.000000e+00  169801.000000    2.817000   \n",
       "\n",
       "                    revenue     runtime     video  vote_average   vote_count  \n",
       "certification                                                                 \n",
       "-              0.000000e+00   90.000000  0.000000      5.400000     8.000000  \n",
       "G              6.663261e+07   84.884615  0.038462      6.149731  1368.000000  \n",
       "NC-17          1.668286e+03   45.428571  0.000000      5.414286     4.714286  \n",
       "NR             2.069718e+06   91.000000  0.000000      4.298562   123.054795  \n",
       "PG             5.973842e+07  102.424242  0.000000      6.053455  1385.712121  \n",
       "PG-13          7.092495e+07  104.382514  0.000000      5.807240  1294.781421  \n",
       "R              1.625459e+07  100.486081  0.000000      5.341773   501.905782  \n",
       "Unrated        0.000000e+00   88.000000  0.000000      5.800000     4.000000  "
      ]
     },
     "execution_count": 13,
     "metadata": {},
     "output_type": "execute_result"
    }
   ],
   "source": [
    "df.groupby(['certification']).mean('revenue')"
   ]
  },
  {
   "cell_type": "code",
   "execution_count": 14,
   "id": "3a859f29",
   "metadata": {},
   "outputs": [
    {
     "data": {
      "image/png": "[encoded data removed]",
      "text/plain": [
       "<Figure size 640x480 with 1 Axes>"
      ]
     },
     "metadata": {},
     "output_type": "display_data"
    }
   ],
   "source": [
    "sns.barplot(data = df, y = 'revenue', x = 'certification');"
   ]
  },
  {
   "cell_type": "markdown",
   "id": "07f01cac",
   "metadata": {},
   "source": [
    "4. What is the average budget per certification category?"
   ]
  },
  {
   "cell_type": "code",
   "execution_count": 13,
   "id": "cd6a81ac",
   "metadata": {},
   "outputs": [
    {
     "data": {
      "text/html": [
       "<div>\n",
       "<style scoped>\n",
       "    .dataframe tbody tr th:only-of-type {\n",
       "        vertical-align: middle;\n",
       "    }\n",
       "\n",
       "    .dataframe tbody tr th {\n",
       "        vertical-align: top;\n",
       "    }\n",
       "\n",
       "    .dataframe thead th {\n",
       "        text-align: right;\n",
       "    }\n",
       "</style>\n",
       "<table border=\"1\" class=\"dataframe\">\n",
       "  <thead>\n",
       "    <tr style=\"text-align: right;\">\n",
       "      <th></th>\n",
       "      <th>adult</th>\n",
       "      <th>budget</th>\n",
       "      <th>id</th>\n",
       "      <th>popularity</th>\n",
       "      <th>revenue</th>\n",
       "      <th>runtime</th>\n",
       "      <th>video</th>\n",
       "      <th>vote_average</th>\n",
       "      <th>vote_count</th>\n",
       "    </tr>\n",
       "    <tr>\n",
       "      <th>certification</th>\n",
       "      <th></th>\n",
       "      <th></th>\n",
       "      <th></th>\n",
       "      <th></th>\n",
       "      <th></th>\n",
       "      <th></th>\n",
       "      <th></th>\n",
       "      <th></th>\n",
       "      <th></th>\n",
       "    </tr>\n",
       "  </thead>\n",
       "  <tbody>\n",
       "    <tr>\n",
       "      <th>-</th>\n",
       "      <td>0.000000</td>\n",
       "      <td>0.000000e+00</td>\n",
       "      <td>172550.000000</td>\n",
       "      <td>0.600000</td>\n",
       "      <td>0.000000e+00</td>\n",
       "      <td>90.000000</td>\n",
       "      <td>0.000000</td>\n",
       "      <td>5.400000</td>\n",
       "      <td>8.000000</td>\n",
       "    </tr>\n",
       "    <tr>\n",
       "      <th>G</th>\n",
       "      <td>0.000000</td>\n",
       "      <td>2.205206e+07</td>\n",
       "      <td>53445.038462</td>\n",
       "      <td>17.003423</td>\n",
       "      <td>6.663261e+07</td>\n",
       "      <td>84.884615</td>\n",
       "      <td>0.038462</td>\n",
       "      <td>6.149731</td>\n",
       "      <td>1368.000000</td>\n",
       "    </tr>\n",
       "    <tr>\n",
       "      <th>NC-17</th>\n",
       "      <td>0.571429</td>\n",
       "      <td>0.000000e+00</td>\n",
       "      <td>209781.285714</td>\n",
       "      <td>1.291571</td>\n",
       "      <td>1.668286e+03</td>\n",
       "      <td>45.428571</td>\n",
       "      <td>0.000000</td>\n",
       "      <td>5.414286</td>\n",
       "      <td>4.714286</td>\n",
       "    </tr>\n",
       "    <tr>\n",
       "      <th>NR</th>\n",
       "      <td>0.000000</td>\n",
       "      <td>1.467673e+06</td>\n",
       "      <td>250242.301370</td>\n",
       "      <td>3.755603</td>\n",
       "      <td>2.069718e+06</td>\n",
       "      <td>91.000000</td>\n",
       "      <td>0.000000</td>\n",
       "      <td>4.298562</td>\n",
       "      <td>123.054795</td>\n",
       "    </tr>\n",
       "    <tr>\n",
       "      <th>PG</th>\n",
       "      <td>0.000000</td>\n",
       "      <td>2.384470e+07</td>\n",
       "      <td>39375.106061</td>\n",
       "      <td>17.945333</td>\n",
       "      <td>5.973842e+07</td>\n",
       "      <td>102.424242</td>\n",
       "      <td>0.000000</td>\n",
       "      <td>6.053455</td>\n",
       "      <td>1385.712121</td>\n",
       "    </tr>\n",
       "    <tr>\n",
       "      <th>PG-13</th>\n",
       "      <td>0.000000</td>\n",
       "      <td>3.072491e+07</td>\n",
       "      <td>45844.060109</td>\n",
       "      <td>12.186240</td>\n",
       "      <td>7.092495e+07</td>\n",
       "      <td>104.382514</td>\n",
       "      <td>0.000000</td>\n",
       "      <td>5.807240</td>\n",
       "      <td>1294.781421</td>\n",
       "    </tr>\n",
       "    <tr>\n",
       "      <th>R</th>\n",
       "      <td>0.000000</td>\n",
       "      <td>9.690588e+06</td>\n",
       "      <td>65023.261242</td>\n",
       "      <td>7.631668</td>\n",
       "      <td>1.625459e+07</td>\n",
       "      <td>100.486081</td>\n",
       "      <td>0.000000</td>\n",
       "      <td>5.341773</td>\n",
       "      <td>501.905782</td>\n",
       "    </tr>\n",
       "    <tr>\n",
       "      <th>Unrated</th>\n",
       "      <td>0.000000</td>\n",
       "      <td>0.000000e+00</td>\n",
       "      <td>169801.000000</td>\n",
       "      <td>2.817000</td>\n",
       "      <td>0.000000e+00</td>\n",
       "      <td>88.000000</td>\n",
       "      <td>0.000000</td>\n",
       "      <td>5.800000</td>\n",
       "      <td>4.000000</td>\n",
       "    </tr>\n",
       "  </tbody>\n",
       "</table>\n",
       "</div>"
      ],
      "text/plain": [
       "                  adult        budget             id  popularity  \\\n",
       "certification                                                      \n",
       "-              0.000000  0.000000e+00  172550.000000    0.600000   \n",
       "G              0.000000  2.205206e+07   53445.038462   17.003423   \n",
       "NC-17          0.571429  0.000000e+00  209781.285714    1.291571   \n",
       "NR             0.000000  1.467673e+06  250242.301370    3.755603   \n",
       "PG             0.000000  2.384470e+07   39375.106061   17.945333   \n",
       "PG-13          0.000000  3.072491e+07   45844.060109   12.186240   \n",
       "R              0.000000  9.690588e+06   65023.261242    7.631668   \n",
       "Unrated        0.000000  0.000000e+00  169801.000000    2.817000   \n",
       "\n",
       "                    revenue     runtime     video  vote_average   vote_count  \n",
       "certification                                                                 \n",
       "-              0.000000e+00   90.000000  0.000000      5.400000     8.000000  \n",
       "G              6.663261e+07   84.884615  0.038462      6.149731  1368.000000  \n",
       "NC-17          1.668286e+03   45.428571  0.000000      5.414286     4.714286  \n",
       "NR             2.069718e+06   91.000000  0.000000      4.298562   123.054795  \n",
       "PG             5.973842e+07  102.424242  0.000000      6.053455  1385.712121  \n",
       "PG-13          7.092495e+07  104.382514  0.000000      5.807240  1294.781421  \n",
       "R              1.625459e+07  100.486081  0.000000      5.341773   501.905782  \n",
       "Unrated        0.000000e+00   88.000000  0.000000      5.800000     4.000000  "
      ]
     },
     "execution_count": 13,
     "metadata": {},
     "output_type": "execute_result"
    }
   ],
   "source": [
    "df.groupby(['certification']).mean('budget')"
   ]
  },
  {
   "cell_type": "code",
   "execution_count": 15,
   "id": "b3acc16c",
   "metadata": {},
   "outputs": [
    {
     "data": {
      "image/png": "[encoded data removed]",
      "text/plain": [
       "<Figure size 640x480 with 1 Axes>"
      ]
     },
     "metadata": {},
     "output_type": "display_data"
    }
   ],
   "source": [
    "sns.barplot(data = df, y = 'budget', x = 'certification');"
   ]
  },
  {
   "cell_type": "code",
   "execution_count": 14,
   "id": "72e2765a",
   "metadata": {},
   "outputs": [],
   "source": [
    "df.to_csv(\"Data/tmdb_results_combined.csv.gz\",compression='gzip',index=False)"
   ]
  }
 ],
 "metadata": {
  "kernelspec": {
   "display_name": "Python (dojo-env)",
   "language": "python",
   "name": "dojo-env"
  },
  "language_info": {
   "codemirror_mode": {
    "name": "ipython",
    "version": 3
   },
   "file_extension": ".py",
   "mimetype": "text/x-python",
   "name": "python",
   "nbconvert_exporter": "python",
   "pygments_lexer": "ipython3",
   "version": "3.9.15"
  },
  "toc": {
   "base_numbering": 1,
   "nav_menu": {},
   "number_sections": true,
   "sideBar": true,
   "skip_h1_title": false,
   "title_cell": "Table of Contents",
   "title_sidebar": "Contents",
   "toc_cell": false,
   "toc_position": {},
   "toc_section_display": true,
   "toc_window_display": false
  }
 },
 "nbformat": 4,
 "nbformat_minor": 5
}
